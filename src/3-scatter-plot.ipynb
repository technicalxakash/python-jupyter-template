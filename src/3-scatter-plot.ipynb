{
 "cells": [
  {
   "cell_type": "markdown",
   "metadata": {},
   "source": [
    "### Exercise 3: Scatter Plot with Annotations"
   ]
  },
  {
   "cell_type": "code",
   "execution_count": null,
   "metadata": {},
   "outputs": [],
   "source": [
    "# TASK: Create a scatter plot with x = [1, 2, 3, 4, 5] and y = [2, 4, 6, 8, 10].\n",
    "# Annotate each point with its (x, y) value, and set the title as 'Scatter Plot with Annotations'.\n",
    "import matplotlib.pyplot as plt\n",
    "\n",
    "# Data\n",
    "x = [1, 2, 3, 4, 5]\n",
    "y = [2, 4, 6, 8, 10]\n",
    "\n",
    "# Create scatter plot\n",
    "plt.scatter(x, y)\n",
    "\n",
    "# Annotate each point with its (x, y) value\n",
    "for i, (xi, yi) in enumerate(zip(x, y)):\n",
    "    plt.annotate(f'({xi}, {yi})', (xi, yi), textcoords=\"offset points\", xytext=(0, 5), ha='center')\n",
    "\n",
    "    # Add title and labels\n",
    "    plt.title(\"Scatter Plot with Annotations\")\n",
    "    plt.xlabel(\"X Axis\")\n",
    "    plt.ylabel(\"Y Axis\")\n",
    "\n",
    "    # Show plot\n",
    "    plt.show()\n",
    "    "
   ]
  }
 ],
 "metadata": {
  "language_info": {
   "name": "python"
  }
 },
 "nbformat": 4,
 "nbformat_minor": 2
}
