{
 "cells": [
  {
   "cell_type": "markdown",
   "metadata": {},
   "source": [
    "### Exercise 5: Subplot Layout"
   ]
  },
  {
   "cell_type": "code",
   "execution_count": null,
   "metadata": {},
   "outputs": [],
   "source": [
    "# TASK: Create a 2x2 subplot layout.\n",
    "# Plot a line chart in the first subplot, a bar chart in the second, a scatter plot in the third, and a pie chart in the fourth.\n",
    "\n",
    "import matplotlib.pyplot as plt\n",
    "import numpy as np\n",
    "\n",
    "# Data for the plots\n",
    "x = np.linspace(0, 10, 100)\n",
    "y = np.sin(x)\n",
    "\n",
    "categories = ['A', 'B', 'C', 'D']\n",
    "values = [5, 7, 3, 9]\n",
    "\n",
    "scatter_x = [1, 2, 3, 4, 5]\n",
    "scatter_y = [2, 4, 6, 8, 10]\n",
    "\n",
    "pie_labels = ['Python', 'Java', 'C++', 'JavaScript']\n",
    "pie_sizes = [40, 25, 20, 15]\n",
    "\n",
    "# Create a 2x2 subplot layout\n",
    "fig, axs = plt.subplots(2, 2, figsize=(10, 8))\n",
    "\n",
    "# First subplot: Line chart\n",
    "axs[0, 0].plot(x, y)\n",
    "axs[0, 0].set_title(\"Line Chart\")\n",
    "\n",
    "# Second subplot: Bar chart\n",
    "axs[0, 1].bar(categories, values, color=['red', 'blue', 'green', 'purple'])\n",
    "axs[0, 1].set_title(\"Bar Chart\")\n",
    "\n",
    "# Third subplot: Scatter plot\n",
    "axs[1, 0].scatter(scatter_x, scatter_y)\n",
    "for i, (xi, yi) in enumerate(zip(scatter_x, scatter_y)):\n",
    "    axs[1, 0].annotate(f'({xi}, {yi})', (xi, yi), textcoords=\"offset points\", xytext=(0, 5), ha='center')\n",
    "    axs[1, 0].set_title(\"Scatter Plot\")\n",
    "\n",
    "    # Fourth subplot: Pie chart\n",
    "    axs[1, 1].pie(pie_sizes, labels=pie_labels, autopct='%1.1f%%', startangle=90)\n",
    "    axs[1, 1].set_title(\"Pie Chart\")\n",
    "\n",
    "    # Adjust layout\n",
    "    plt.tight_layout()\n",
    "\n",
    "    # Show the plot\n",
    "    plt.show()\n",
    "    "
   ]
  }
 ],
 "metadata": {
  "language_info": {
   "name": "python"
  }
 },
 "nbformat": 4,
 "nbformat_minor": 2
}
