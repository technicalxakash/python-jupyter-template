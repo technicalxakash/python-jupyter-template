{
 "cells": [
  {
   "cell_type": "markdown",
   "metadata": {},
   "source": [
    "### Exercise 1: Line Plot Customization"
   ]
  },
  {
   "cell_type": "code",
   "execution_count": null,
   "metadata": {},
   "outputs": [],
   "source": [
    "# TASK: Create a line plot with x values ranging from 0 to 10 and y values as the square of x.\n",
    "# Customize the plot by adding a title, labels for both axes, and a grid.\n",
    "import matplotlib.pyplot as plt\n",
    "import numpy as np\n",
    "\n",
    "# Generate x values from 0 to 10\n",
    "x = np.arange(0, 11, 1)\n",
    "\n",
    "# Compute y values (square of x)\n",
    "y = x ** 2\n",
    "\n",
    "# Create the plot\n",
    "plt.figure(figsize=(8, 5))  # Set figure size\n",
    "plt.plot(x, y, marker='o', linestyle='-', color='b', label=\"y = x²\")  # Line plot with markers\n",
    "\n",
    "# Customize the plot\n",
    "plt.title(\"Line Plot of y = x²\")  # Title\n",
    "plt.xlabel(\"X Values\")  # X-axis label\n",
    "plt.ylabel(\"Y Values (x²)\")  # Y-axis label\n",
    "plt.grid(True, linestyle='--', alpha=0.6)  # Add grid with dashed lines\n",
    "plt.legend()  # Show legend\n",
    "\n",
    "# Display the plot\n",
    "plt.show()\n"
   ]
  }
 ],
 "metadata": {
  "language_info": {
   "name": "python"
  }
 },
 "nbformat": 4,
 "nbformat_minor": 2
}
